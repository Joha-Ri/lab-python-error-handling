{
 "cells": [
  {
   "cell_type": "markdown",
   "id": "25d7736c-ba17-4aff-b6bb-66eba20fbf4e",
   "metadata": {},
   "source": [
    "# Lab | Error Handling"
   ]
  },
  {
   "cell_type": "markdown",
   "id": "bc99b386-7508-47a0-bcdb-d969deaf6c8b",
   "metadata": {},
   "source": [
    "## Exercise: Error Handling for Managing Customer Orders\n",
    "\n",
    "The implementation of your code for managing customer orders assumes that the user will always enter a valid input. \n",
    "\n",
    "For example, we could modify the `initialize_inventory` function to include error handling.\n",
    "   - If the user enters an invalid quantity (e.g., a negative value or a non-numeric value), display an error message and ask them to re-enter the quantity for that product.\n",
    "   - Use a try-except block to handle the error and continue prompting the user until a valid quantity is entered.\n",
    "\n",
    "```python\n",
    "# Step 1: Define the function for initializing the inventory with error handling\n",
    "def initialize_inventory(products):\n",
    "    inventory = {}\n",
    "    for product in products:\n",
    "        valid_quantity = False\n",
    "        while not valid_quantity:\n",
    "            try:\n",
    "                quantity = int(input(f\"Enter the quantity of {product}s available: \"))\n",
    "                if quantity < 0:\n",
    "                    raise ValueError(\"Invalid quantity! Please enter a non-negative value.\")\n",
    "                valid_quantity = True\n",
    "            except ValueError as error:\n",
    "                print(f\"Error: {error}\")\n",
    "        inventory[product] = quantity\n",
    "    return inventory\n",
    "\n",
    "# Or, in another way:\n",
    "\n",
    "def initialize_inventory(products):\n",
    "    inventory = {}\n",
    "    for product in products:\n",
    "        valid_input = False\n",
    "        while not valid_input:\n",
    "            try:\n",
    "                quantity = int(input(f\"Enter the quantity of {product}s available: \"))\n",
    "                if quantity >= 0:\n",
    "                    inventory[product] = quantity\n",
    "                    valid_input = True\n",
    "                else:\n",
    "                    print(\"Quantity cannot be negative. Please enter a valid quantity.\")\n",
    "            except ValueError:\n",
    "                print(\"Invalid input. Please enter a valid quantity.\")\n",
    "    return inventory\n",
    "```\n",
    "\n",
    "Let's enhance your code by implementing error handling to handle invalid inputs.\n",
    "\n",
    "Follow the steps below to complete the exercise:\n",
    "\n",
    "2. Modify the `calculate_total_price` function to include error handling.\n",
    "   - If the user enters an invalid price (e.g., a negative value or a non-numeric value), display an error message and ask them to re-enter the price for that product.\n",
    "   - Use a try-except block to handle the error and continue prompting the user until a valid price is entered.\n",
    "\n",
    "3. Modify the `get_customer_orders` function to include error handling.\n",
    "   - If the user enters an invalid number of orders (e.g., a negative value or a non-numeric value), display an error message and ask them to re-enter the number of orders.\n",
    "   - If the user enters an invalid product name (e.g., a product name that is not in the inventory), or that doesn't have stock available, display an error message and ask them to re-enter the product name. *Hint: you will need to pass inventory as a parameter*\n",
    "   - Use a try-except block to handle the error and continue prompting the user until a valid product name is entered.\n",
    "\n",
    "4. Test your code by running the program and deliberately entering invalid quantities and product names. Make sure the error handling mechanism works as expected.\n"
   ]
  },
  {
   "cell_type": "code",
   "execution_count": 49,
   "id": "675e8669-a6a9-48cd-8504-2658f17b62d6",
   "metadata": {},
   "outputs": [],
   "source": [
    "products = [\"t-shirt\", \"mug\", \"hat\", \"book\", \"keychain\"]"
   ]
  },
  {
   "cell_type": "code",
   "execution_count": 53,
   "id": "5c85a881-5b54-46a2-8ec9-252393193140",
   "metadata": {},
   "outputs": [],
   "source": [
    "def initialize_inventory(products):\n",
    "    inventory = {}\n",
    "    for product in products:\n",
    "        valid_input = False\n",
    "        while not valid_input:\n",
    "            try:\n",
    "                quantity = int(input(f\"Enter the quantity of {product}s available: \"))\n",
    "                if quantity >= 0:\n",
    "                    inventory[product] = quantity\n",
    "                    valid_input = True\n",
    "                else:\n",
    "                    print(\"Quantity cannot be negative. Please enter a valid quantity.\")\n",
    "            except ValueError:\n",
    "                print(\"Invalid input. Please enter a valid quantity.\")\n",
    "    return inventory"
   ]
  },
  {
   "cell_type": "code",
   "execution_count": 75,
   "id": "8ece4e83-933d-4612-866b-940e5f322252",
   "metadata": {},
   "outputs": [],
   "source": [
    "# Modify the calculate_total_price function to include error handling.\n",
    "\n",
    "#If the user enters an invalid price (e.g., a negative value or a non-numeric value), display an error message and ask them to re-enter the price for that product.\n",
    "# Use a try-except block to handle the error and continue prompting the user until a valid price is entered.\n",
    "\n",
    "def calculate_total_price(products):\n",
    "    prices = {}\n",
    "    for product in products:\n",
    "        valid_price = False\n",
    "        while not valid_price:\n",
    "            try:\n",
    "                price = float(input(f\"Enter the price of {product}: \"))\n",
    "                if price < 0:\n",
    "                    raise ValueError(\"Invalid price! Please enter a non-negative value.\")\n",
    "                valid_price = True\n",
    "            except ValueError as error:\n",
    "                print(f\"Error: {error}\")\n",
    "        prices[product] = price\n",
    "    return prices"
   ]
  },
  {
   "cell_type": "code",
   "execution_count": 77,
   "id": "be5996e2-e31f-4745-8175-ba364d3438fa",
   "metadata": {},
   "outputs": [],
   "source": [
    "def get_customer_orders(inventory):\n",
    "    customer_orders = {}\n",
    "    while True:\n",
    "        try:\n",
    "            num_orders = int(input(\"Enter the number of products you want to order: \"))\n",
    "            if num_orders <= 0:\n",
    "                raise ValueError(\"The number of orders must be a positive integer. Please try again.\")\n",
    "            break\n",
    "        except ValueError as error:\n",
    "            print(f\"Error: {error}\")\n",
    "\n",
    "    for _ in range(num_orders):\n",
    "        while True:\n",
    "            product = input(\"Enter the name of a product that a customer wants to order: \").strip()\n",
    "            if product not in inventory:\n",
    "                print(\"Product not available. Please try again.\")\n",
    "                continue\n",
    "            try:\n",
    "                quantity = int(input(f\"Enter the quantity of {product} you want to order: \"))\n",
    "                if quantity <= 0:\n",
    "                    raise ValueError(\"Quantity must be a positive integer.\")\n",
    "                if quantity > inventory[product]:\n",
    "                    print(f\"Only {inventory[product]} {product}s are available. Please enter a valid quantity.\")\n",
    "                    continue\n",
    "                if product in customer_orders:\n",
    "                    customer_orders[product] += quantity\n",
    "                else:\n",
    "                    customer_orders[product] = quantity\n",
    "                break\n",
    "            except ValueError as error:\n",
    "                print(f\"Error: {error}\")\n",
    "    return customer_orders"
   ]
  },
  {
   "cell_type": "code",
   "execution_count": 78,
   "id": "527c40de-c7b6-4c95-a50a-643661346301",
   "metadata": {},
   "outputs": [],
   "source": [
    "def calculate_total_price(customer_orders):\n",
    "    total_price = 0\n",
    "    for product in customer_orders:\n",
    "        while True:\n",
    "            try:\n",
    "                price = float(input(f\"Enter the price of {product}: \"))\n",
    "                if price < 0:\n",
    "                    raise ValueError(\"Price cannot be negative. Please enter a valid price.\")\n",
    "                total_price += price\n",
    "                break\n",
    "            except ValueError as error:\n",
    "                print(f\"Error: {error}\")\n",
    "    return total_price"
   ]
  },
  {
   "cell_type": "code",
   "execution_count": 79,
   "id": "b961b995-4479-43a8-8839-5f7b4cbb4835",
   "metadata": {},
   "outputs": [],
   "source": [
    "def update_inventory(customer_orders, inventory):\n",
    "    inventory = {product: quantity - 1 for product, quantity in inventory.items() if product not in customer_orders or quantity > 1}\n",
    "    return inventory"
   ]
  },
  {
   "cell_type": "code",
   "execution_count": 80,
   "id": "71acb35d-0a69-44b8-94a8-d4acae9932e2",
   "metadata": {},
   "outputs": [],
   "source": [
    "def print_updated_inventory(inventory):\n",
    "    print(\"\\nUpdated Inventory:\")\n",
    "    for product, quantity in inventory.items():\n",
    "        print(f\"{product}: {quantity}\")"
   ]
  },
  {
   "cell_type": "code",
   "execution_count": 81,
   "id": "535f296e-4444-4596-b4fe-3b8f79f81a21",
   "metadata": {},
   "outputs": [],
   "source": [
    "def print_total_price(total_price):\n",
    "    print(f\"\\nTotal Price: {total_price:.2f}\")"
   ]
  },
  {
   "cell_type": "code",
   "execution_count": 82,
   "id": "5c08d1c2-3f0b-4ee7-972a-db58553196f8",
   "metadata": {},
   "outputs": [
    {
     "name": "stdin",
     "output_type": "stream",
     "text": [
      "Enter the quantity of t-shirts available:  2\n",
      "Enter the quantity of mugs available:  4\n",
      "Enter the quantity of hats available:  6\n",
      "Enter the quantity of books available:  8\n",
      "Enter the quantity of keychains available:  9\n",
      "Enter the number of products you want to order:  3\n",
      "Enter the name of a product that a customer wants to order:  hat\n",
      "Enter the quantity of hat you want to order:  keychain\n"
     ]
    },
    {
     "name": "stdout",
     "output_type": "stream",
     "text": [
      "Error: invalid literal for int() with base 10: 'keychain'\n"
     ]
    },
    {
     "name": "stdin",
     "output_type": "stream",
     "text": [
      "Enter the name of a product that a customer wants to order:  book\n",
      "Enter the quantity of book you want to order:  2\n",
      "Enter the name of a product that a customer wants to order:  keychain\n",
      "Enter the quantity of keychain you want to order:  1\n",
      "Enter the name of a product that a customer wants to order:  hat\n",
      "Enter the quantity of hat you want to order:  1\n"
     ]
    },
    {
     "name": "stdout",
     "output_type": "stream",
     "text": [
      "\n",
      "Updated Inventory:\n",
      "t-shirt: 1\n",
      "mug: 3\n",
      "hat: 5\n",
      "book: 7\n",
      "keychain: 8\n"
     ]
    },
    {
     "name": "stdin",
     "output_type": "stream",
     "text": [
      "Enter the price of book:  25\n",
      "Enter the price of keychain:  99.99\n",
      "Enter the price of hat:  125\n"
     ]
    },
    {
     "name": "stdout",
     "output_type": "stream",
     "text": [
      "\n",
      "Total Price: 249.99\n"
     ]
    }
   ],
   "source": [
    "def main():\n",
    "    products = [\"t-shirt\", \"mug\", \"hat\", \"book\", \"keychain\"]\n",
    "    inventory = initialize_inventory(products)\n",
    "    customer_orders = get_customer_orders(inventory)\n",
    "    inventory = update_inventory(customer_orders, inventory)\n",
    "    print_updated_inventory(inventory)\n",
    "    total_price = calculate_total_price(customer_orders)\n",
    "    print_total_price(total_price)\n",
    "\n",
    "main()"
   ]
  }
 ],
 "metadata": {
  "kernelspec": {
   "display_name": "Python 3 (ipykernel)",
   "language": "python",
   "name": "python3"
  },
  "language_info": {
   "codemirror_mode": {
    "name": "ipython",
    "version": 3
   },
   "file_extension": ".py",
   "mimetype": "text/x-python",
   "name": "python",
   "nbconvert_exporter": "python",
   "pygments_lexer": "ipython3",
   "version": "3.12.4"
  }
 },
 "nbformat": 4,
 "nbformat_minor": 5
}
